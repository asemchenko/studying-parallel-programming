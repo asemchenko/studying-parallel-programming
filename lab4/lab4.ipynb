{
 "cells": [
  {
   "cell_type": "code",
   "execution_count": 1,
   "id": "8de5826e",
   "metadata": {},
   "outputs": [
    {
     "name": "stderr",
     "output_type": "stream",
     "text": [
      "WARNING: An illegal reflective access operation has occurred\n",
      "WARNING: Illegal reflective access by org.apache.spark.unsafe.Platform (file:/opt/spark/jars/spark-unsafe_2.12-3.1.2.jar) to constructor java.nio.DirectByteBuffer(long,int)\n",
      "WARNING: Please consider reporting this to the maintainers of org.apache.spark.unsafe.Platform\n",
      "WARNING: Use --illegal-access=warn to enable warnings of further illegal reflective access operations\n",
      "WARNING: All illegal access operations will be denied in a future release\n",
      "Setting default log level to \"WARN\".\n",
      "To adjust logging level use sc.setLogLevel(newLevel). For SparkR, use setLogLevel(newLevel).\n"
     ]
    },
    {
     "name": "stdout",
     "output_type": "stream",
     "text": [
      "Spark WARN [Thread-3] spark.util.Utils - spark.executor.instances less than spark.dynamicAllocation.minExecutors is invalid, ignoring its setting, please update your configs.\n",
      "Spark WARN [Thread-3] spark.util.Utils - spark.executor.instances less than spark.dynamicAllocation.minExecutors is invalid, ignoring its setting, please update your configs.\n",
      "Spark WARN [Thread-3] apache.spark.ExecutorAllocationManager - Dynamic allocation without a shuffle service is an experimental feature.\n"
     ]
    }
   ],
   "source": [
    "from sparkle import Scope\n",
    "\n",
    "scope = Scope(executors=1)\n",
    "scope.conf.set('spark.executor.cores', 1)\n",
    "spark = scope.spark\n",
    "sc = spark.sparkContext"
   ]
  },
  {
   "cell_type": "code",
   "execution_count": 2,
   "id": "57615937",
   "metadata": {},
   "outputs": [],
   "source": [
    "git_repos = [\n",
    "    \"https://github.com/asemchenko/Hotello-Spring.git\",\n",
    "#     \"https://github.com/maxliaops/Java_Web_Examples.git\",\n",
    "    \"https://github.com/eomjinyoung/JavaWebProgramming.git\",\n",
    "    \"https://github.com/Tastenkunst/brfv4_javascript_examples.git\",\n",
    "    \"https://github.com/cschneider4711/Marathon.git\",\n",
    "    \"https://github.com/mikemelon/java-signin.git\",\n",
    "    \"https://github.com/sonngotung/JWebMVC.git\",\n",
    "    \"https://github.com/tsultana2/EducationalWebSite.git\",\n",
    "    \"https://github.com/mikemelon/JavaWebEducation.git\",\n",
    "    \"https://github.com/Ocryst/Web3JavascriptEducation.git\",\n",
    "    \"https://github.com/mihail-petrov/netit-webdev-java.git\",\n",
    "    \"https://github.com/infinity23/family-education-platform.git\",\n",
    "    \"https://github.com/vasyukvv42/metabot.git\",\n",
    "    \"https://github.com/vasyukvv42/anek-api-rest.git\",\n",
    "    \"https://github.com/vasyukvv42/course-work-semester-6.git\",\n",
    "    \"https://github.com/vasyukvv42/java-labs-semester-6.git\",\n",
    "]"
   ]
  },
  {
   "cell_type": "code",
   "execution_count": 3,
   "id": "ffe7f9cd",
   "metadata": {},
   "outputs": [],
   "source": [
    "from pyspark.sql import types as t\n",
    "\n",
    "\n",
    "df = spark.createDataFrame(git_repos, t.StringType())"
   ]
  },
  {
   "cell_type": "code",
   "execution_count": 4,
   "id": "b91d9d75",
   "metadata": {},
   "outputs": [],
   "source": [
    "from pyspark.sql import functions as f\n",
    "from git import Repo\n",
    "from pathlib import Path\n",
    "import shutil\n",
    "\n",
    "schema = t.ArrayType(\n",
    "    t.StructType([\n",
    "        t.StructField('path', t.StringType(), False),\n",
    "        t.StructField('content', t.StringType(), True)\n",
    "    ])\n",
    ")\n",
    "\n",
    "\n",
    "@f.udf(returnType=schema)\n",
    "def load_repo(value: str) -> list:\n",
    "    tmp_dir = Path(value.rsplit('/', 1)[1][:-4])\n",
    "    if not tmp_dir.is_dir():\n",
    "        Repo.clone_from(value, tmp_dir)\n",
    "    files = []\n",
    "    for file_path in tmp_dir.rglob('*'):\n",
    "        path = file_path.as_posix()\n",
    "        if not file_path.is_file() or '.git/' in path:\n",
    "            continue\n",
    "        with open(file_path, 'r') as file:\n",
    "            try:\n",
    "                content = file.read()\n",
    "            except:\n",
    "                content = None\n",
    "            files.append((path, content))\n",
    "    shutil.rmtree(tmp_dir)\n",
    "    return files"
   ]
  },
  {
   "cell_type": "code",
   "execution_count": 5,
   "id": "919363fd",
   "metadata": {},
   "outputs": [],
   "source": [
    "df_with_repo_content = (\n",
    "    df\n",
    "    .withColumn('repo_content', f.explode(load_repo('value')))\n",
    "    .select(f.col('value').alias('repo'), 'repo_content.*')\n",
    "    .repartition(200)\n",
    "    .cache()\n",
    ")"
   ]
  },
  {
   "cell_type": "code",
   "execution_count": null,
   "id": "b7833d12",
   "metadata": {},
   "outputs": [
    {
     "name": "stderr",
     "output_type": "stream",
     "text": [
      "[Stage 0:===>                                                    (12 + 1) / 192]\r"
     ]
    }
   ],
   "source": [
    "%%time\n",
    "\n",
    "df_with_repo_content.toPandas()"
   ]
  },
  {
   "cell_type": "code",
   "execution_count": null,
   "id": "aa5b7e1b",
   "metadata": {},
   "outputs": [],
   "source": [
    "import json\n",
    "import re\n",
    "\n",
    "with open('pathCheckers.json') as file:\n",
    "    path_checkers = json.load(file)\n",
    "    for issue in path_checkers:\n",
    "        del issue['id']\n",
    "        issue['pattern'] = re.compile(issue['pattern'])\n",
    "\n",
    "with open('contentCheckers.json') as file:\n",
    "    content_checkers = json.load(file)\n",
    "    for issue in content_checkers:\n",
    "        del issue['id']\n",
    "        issue['pattern'] = re.compile(issue['pattern'])"
   ]
  },
  {
   "cell_type": "code",
   "execution_count": null,
   "id": "f7c23fd7",
   "metadata": {},
   "outputs": [],
   "source": [
    "issue_schema = t.ArrayType(\n",
    "    t.StructType([\n",
    "        t.StructField('issueType', t.StringType(), False),\n",
    "        t.StructField('issueDescription', t.StringType(), True),\n",
    "        t.StructField('lineNumber', t.IntegerType(), True),\n",
    "    ])\n",
    ")\n",
    "\n",
    "\n",
    "@f.udf(returnType=issue_schema)\n",
    "def parse_issues(path: str, content: str):\n",
    "    issues = [{\n",
    "        'issueType': check['issue']['issueType'],\n",
    "        'issueDescription': check['issue']['issueDescription'],\n",
    "    } for check in path_checkers if check['pattern'].match(path)]\n",
    "    if not content:\n",
    "        return issues\n",
    "\n",
    "    for line_number, line in enumerate(content.splitlines(), start=1):\n",
    "        issues += [{\n",
    "            'issueType': check['issue']['issueType'],\n",
    "            'issueDescription': check['issue']['issueDescription'],\n",
    "            'lineNumber': line_number,\n",
    "        } for check in content_checkers if check['pattern'].match(line)]\n",
    "    return issues"
   ]
  },
  {
   "cell_type": "code",
   "execution_count": null,
   "id": "5ada14e0",
   "metadata": {},
   "outputs": [],
   "source": [
    "report_df = (\n",
    "    df_with_repo_content\n",
    "    .withColumn('issues', f.explode(parse_issues('path', 'content')))\n",
    "    .select('repo', 'path', 'issues.*')\n",
    "    .cache()\n",
    ")"
   ]
  },
  {
   "cell_type": "code",
   "execution_count": null,
   "id": "da22ceec",
   "metadata": {},
   "outputs": [],
   "source": [
    "%%time\n",
    "\n",
    "pd_report = report_df.toPandas()\n",
    "pd_report"
   ]
  },
  {
   "cell_type": "code",
   "execution_count": null,
   "id": "2505c6c0",
   "metadata": {},
   "outputs": [],
   "source": [
    "pd_report.to_json('report.json', orient='records')"
   ]
  },
  {
   "cell_type": "code",
   "execution_count": null,
   "id": "f0304271",
   "metadata": {},
   "outputs": [],
   "source": []
  }
 ],
 "metadata": {
  "kernelspec": {
   "display_name": "Python 3 (ipykernel)",
   "language": "python",
   "name": "python3"
  },
  "language_info": {
   "codemirror_mode": {
    "name": "ipython",
    "version": 3
   },
   "file_extension": ".py",
   "mimetype": "text/x-python",
   "name": "python",
   "nbconvert_exporter": "python",
   "pygments_lexer": "ipython3",
   "version": "3.7.3"
  }
 },
 "nbformat": 4,
 "nbformat_minor": 5
}
